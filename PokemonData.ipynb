{
 "cells": [
  {
   "cell_type": "markdown",
   "id": "comprehensive-vegetarian",
   "metadata": {},
   "source": [
    "# Pokemon Final Code"
   ]
  },
  {
   "cell_type": "code",
   "execution_count": 4,
   "id": "compatible-preparation",
   "metadata": {
    "tags": []
   },
   "outputs": [
    {
     "name": "stdout",
     "output_type": "stream",
     "text": [
      "Generated File: gen2.json\n",
      "Generated File: gen3.json\n",
      "Generated File: gen4.json\n",
      "Generated File: gen5.json\n",
      "Generated File: gen6.json\n",
      "Generated File: gen7.json\n",
      "Generated File: gen8.json\n"
     ]
    }
   ],
   "source": [
    "import requests\n",
    "from bs4 import BeautifulSoup\n",
    "\n",
    "URL = \"https://bulbapedia.bulbagarden.net/wiki/List_of_Pok%C3%A9mon_by_National_Pok%C3%A9dex_number\"\n",
    "\n",
    "page = requests.get(URL)\n",
    "\n",
    "soup = BeautifulSoup(page.content, 'html.parser')\n",
    "\n",
    "poke_content = soup.find(id='mw-content-text')\n",
    "poke_tables = poke_content.find_all('table')\n",
    "\n",
    "gen_list = []\n",
    "\n",
    "for gen in range(7):\n",
    "    gen_list.append(poke_tables[gen+2])\n",
    "\n",
    "info_start=3\n",
    "   \n",
    "gen2_json = []\n",
    "gen3_json = []\n",
    "gen4_json = []\n",
    "gen5_json = []\n",
    "gen6_json = []\n",
    "gen7_json = []\n",
    "gen8_json = []     \n",
    "gen_json = [gen2_json, gen3_json, gen4_json, gen5_json, gen6_json, gen7_json, gen8_json]\n",
    "\n",
    "#get all needed information\n",
    "for gen in range(len(gen_list)):    \n",
    "    for pokemon in range(info_start, len(gen_list[gen].contents), 2):\n",
    "        poke_info=gen_list[gen].contents[pokemon]\n",
    "        kdex=poke_info.contents[1].text.strip()\n",
    "        ndex=poke_info.contents[3].text.strip()\n",
    "        name=poke_info.contents[7].text.strip()\n",
    "        type1=poke_info.contents[9].text.strip()\n",
    "        \n",
    "        #get link to pokemon\n",
    "        for link in poke_info.contents[5].find_all('a'):\n",
    "            pok_link = link.get('href')\n",
    "    \n",
    "        url='https://bulbapedia.bulbagarden.net' + pok_link\n",
    "        \n",
    "        if len(poke_info.contents) > 10:\n",
    "            type2=poke_info.contents[11].text.strip()\n",
    "            gen_json[gen].append({\n",
    "                \"kdex\": kdex,\n",
    "                \"ndex\": ndex,\n",
    "                \"name\": name,\n",
    "                \"type1\": type1,\n",
    "                \"type2\": type2,\n",
    "                \"url\": url\n",
    "            })\n",
    "        else:\n",
    "            gen_json[gen].append({\n",
    "                \"kdex\": kdex,\n",
    "                \"ndex\": ndex,\n",
    "                \"name\": name,\n",
    "                \"type1\": type1,\n",
    "                \"url\": url\n",
    "            })\n",
    "            \n",
    "#generate json file for all generations\n",
    "for gen in range(len(gen_list)):\n",
    "    gen_string = 'gen' + str(gen+2) + '.json'\n",
    "    json_str = str(gen_json[gen])\n",
    "    f = open(gen_string, \"w\")\n",
    "    f.write(json_str)\n",
    "    f.close()\n",
    "    print('Generated File:', gen_string)"
   ]
  },
  {
   "cell_type": "code",
   "execution_count": null,
   "id": "defensive-brooks",
   "metadata": {},
   "outputs": [],
   "source": []
  }
 ],
 "metadata": {
  "kernelspec": {
   "display_name": "Python 3",
   "language": "python",
   "name": "python3"
  },
  "language_info": {
   "codemirror_mode": {
    "name": "ipython",
    "version": 3
   },
   "file_extension": ".py",
   "mimetype": "text/x-python",
   "name": "python",
   "nbconvert_exporter": "python",
   "pygments_lexer": "ipython3",
   "version": "3.9.2"
  }
 },
 "nbformat": 4,
 "nbformat_minor": 5
}
